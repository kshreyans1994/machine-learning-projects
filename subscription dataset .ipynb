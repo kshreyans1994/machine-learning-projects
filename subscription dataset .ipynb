{
 "cells": [
  {
   "cell_type": "markdown",
   "metadata": {},
   "source": [
    "# Problem Statement:\n",
    " A Software Company wants to predict whether customers opt for paid software subscription.\n",
    " The company wants to run a marketing campaign to target good customers for pitching them regarding new software services."
   ]
  },
  {
   "cell_type": "code",
   "execution_count": 1,
   "metadata": {},
   "outputs": [],
   "source": [
    "import pandas as pd\n",
    "import numpy as np\n",
    "import seaborn as sns\n",
    "import matplotlib.pyplot as plt\n",
    "import plotly.express as px"
   ]
  },
  {
   "cell_type": "code",
   "execution_count": 2,
   "metadata": {},
   "outputs": [
    {
     "data": {
      "text/html": [
       "<div>\n",
       "<style scoped>\n",
       "    .dataframe tbody tr th:only-of-type {\n",
       "        vertical-align: middle;\n",
       "    }\n",
       "\n",
       "    .dataframe tbody tr th {\n",
       "        vertical-align: top;\n",
       "    }\n",
       "\n",
       "    .dataframe thead th {\n",
       "        text-align: right;\n",
       "    }\n",
       "</style>\n",
       "<table border=\"1\" class=\"dataframe\">\n",
       "  <thead>\n",
       "    <tr style=\"text-align: right;\">\n",
       "      <th></th>\n",
       "      <th>ID</th>\n",
       "      <th>extract_date</th>\n",
       "      <th>skill</th>\n",
       "      <th>job</th>\n",
       "      <th>purpose</th>\n",
       "      <th>target_group</th>\n",
       "      <th>business_group</th>\n",
       "      <th>business_segment</th>\n",
       "      <th>signup_source</th>\n",
       "      <th>signup_category</th>\n",
       "      <th>first_cc_subscription_dts</th>\n",
       "      <th>country_code</th>\n",
       "      <th>product_id</th>\n",
       "      <th>download_attempts</th>\n",
       "      <th>product_platforms</th>\n",
       "      <th>machines</th>\n",
       "      <th>error_codes</th>\n",
       "      <th>label</th>\n",
       "    </tr>\n",
       "  </thead>\n",
       "  <tbody>\n",
       "    <tr>\n",
       "      <th>0</th>\n",
       "      <td>1</td>\n",
       "      <td>10-01-2017</td>\n",
       "      <td>BEGINNER</td>\n",
       "      <td>ACADEMIC</td>\n",
       "      <td>ME_PROFESSIONAL</td>\n",
       "      <td>HED - ED/FAC/STAFF</td>\n",
       "      <td>EDUCATION</td>\n",
       "      <td>EDU STUDENT STAFF</td>\n",
       "      <td>Creative Cloud</td>\n",
       "      <td>DESKTOP</td>\n",
       "      <td>03-12-2017 11:44</td>\n",
       "      <td>US</td>\n",
       "      <td>abcd:xyzz</td>\n",
       "      <td>2.0</td>\n",
       "      <td>MAC</td>\n",
       "      <td>1.0</td>\n",
       "      <td>NaN</td>\n",
       "      <td>0</td>\n",
       "    </tr>\n",
       "    <tr>\n",
       "      <th>1</th>\n",
       "      <td>2</td>\n",
       "      <td>10-01-2017</td>\n",
       "      <td>BEGINNER</td>\n",
       "      <td>ACADEMIC</td>\n",
       "      <td>ME_PROFESSIONAL</td>\n",
       "      <td>EDGEN - AD/ED/FAC/STAFF</td>\n",
       "      <td>EDUCATION</td>\n",
       "      <td>EDU STUDENT STAFF</td>\n",
       "      <td>Renga Auto Provisioning</td>\n",
       "      <td>DESKTOP</td>\n",
       "      <td>5/29/2017 15:35</td>\n",
       "      <td>US</td>\n",
       "      <td>xyzz</td>\n",
       "      <td>1.0</td>\n",
       "      <td>WIN</td>\n",
       "      <td>0.0</td>\n",
       "      <td>NaN</td>\n",
       "      <td>0</td>\n",
       "    </tr>\n",
       "    <tr>\n",
       "      <th>2</th>\n",
       "      <td>3</td>\n",
       "      <td>10-01-2017</td>\n",
       "      <td>BEGINNER</td>\n",
       "      <td>NaN</td>\n",
       "      <td>NaN</td>\n",
       "      <td>HOBBYIST</td>\n",
       "      <td>HOBBYIST</td>\n",
       "      <td>PHOTO</td>\n",
       "      <td>Draw (iOS)</td>\n",
       "      <td>MOBILE</td>\n",
       "      <td>06-10-2017 01:04</td>\n",
       "      <td>US</td>\n",
       "      <td>ILST:abcd</td>\n",
       "      <td>3.0</td>\n",
       "      <td>MAC:WIN</td>\n",
       "      <td>1.0</td>\n",
       "      <td>NaN</td>\n",
       "      <td>0</td>\n",
       "    </tr>\n",
       "    <tr>\n",
       "      <th>3</th>\n",
       "      <td>4</td>\n",
       "      <td>10-01-2017</td>\n",
       "      <td>BEGINNER</td>\n",
       "      <td>STUDENT</td>\n",
       "      <td>ME_NONPROFESSIONAL</td>\n",
       "      <td>EDGEN - STUDENT</td>\n",
       "      <td>EDUCATION</td>\n",
       "      <td>EDU STUDENT STAFF</td>\n",
       "      <td>Renga Auto Provisioning</td>\n",
       "      <td>DESKTOP</td>\n",
       "      <td>1/21/2017 18:33</td>\n",
       "      <td>US</td>\n",
       "      <td>PPRO:AME</td>\n",
       "      <td>2.0</td>\n",
       "      <td>WIN</td>\n",
       "      <td>1.0</td>\n",
       "      <td>NaN</td>\n",
       "      <td>0</td>\n",
       "    </tr>\n",
       "    <tr>\n",
       "      <th>4</th>\n",
       "      <td>5</td>\n",
       "      <td>10-01-2017</td>\n",
       "      <td>BEGINNER</td>\n",
       "      <td>STUDENT</td>\n",
       "      <td>ME_PROFESSIONAL</td>\n",
       "      <td>EDGEN - STUDENT</td>\n",
       "      <td>EDUCATION</td>\n",
       "      <td>EDU STUDENT STAFF</td>\n",
       "      <td>Renga Auto Provisioning</td>\n",
       "      <td>DESKTOP</td>\n",
       "      <td>6/23/2017 14:46</td>\n",
       "      <td>US</td>\n",
       "      <td>IDSN</td>\n",
       "      <td>1.0</td>\n",
       "      <td>MAC</td>\n",
       "      <td>0.0</td>\n",
       "      <td>NaN</td>\n",
       "      <td>0</td>\n",
       "    </tr>\n",
       "  </tbody>\n",
       "</table>\n",
       "</div>"
      ],
      "text/plain": [
       "   ID extract_date     skill       job             purpose  \\\n",
       "0   1   10-01-2017  BEGINNER  ACADEMIC     ME_PROFESSIONAL   \n",
       "1   2   10-01-2017  BEGINNER  ACADEMIC     ME_PROFESSIONAL   \n",
       "2   3   10-01-2017  BEGINNER       NaN                 NaN   \n",
       "3   4   10-01-2017  BEGINNER   STUDENT  ME_NONPROFESSIONAL   \n",
       "4   5   10-01-2017  BEGINNER   STUDENT     ME_PROFESSIONAL   \n",
       "\n",
       "              target_group business_group   business_segment  \\\n",
       "0       HED - ED/FAC/STAFF      EDUCATION  EDU STUDENT STAFF   \n",
       "1  EDGEN - AD/ED/FAC/STAFF      EDUCATION  EDU STUDENT STAFF   \n",
       "2                 HOBBYIST       HOBBYIST              PHOTO   \n",
       "3          EDGEN - STUDENT      EDUCATION  EDU STUDENT STAFF   \n",
       "4          EDGEN - STUDENT      EDUCATION  EDU STUDENT STAFF   \n",
       "\n",
       "             signup_source signup_category first_cc_subscription_dts  \\\n",
       "0           Creative Cloud         DESKTOP          03-12-2017 11:44   \n",
       "1  Renga Auto Provisioning         DESKTOP           5/29/2017 15:35   \n",
       "2               Draw (iOS)          MOBILE          06-10-2017 01:04   \n",
       "3  Renga Auto Provisioning         DESKTOP           1/21/2017 18:33   \n",
       "4  Renga Auto Provisioning         DESKTOP           6/23/2017 14:46   \n",
       "\n",
       "  country_code product_id  download_attempts product_platforms  machines  \\\n",
       "0           US  abcd:xyzz                2.0               MAC       1.0   \n",
       "1           US       xyzz                1.0               WIN       0.0   \n",
       "2           US  ILST:abcd                3.0           MAC:WIN       1.0   \n",
       "3           US   PPRO:AME                2.0               WIN       1.0   \n",
       "4           US       IDSN                1.0               MAC       0.0   \n",
       "\n",
       "  error_codes  label  \n",
       "0         NaN      0  \n",
       "1         NaN      0  \n",
       "2         NaN      0  \n",
       "3         NaN      0  \n",
       "4         NaN      0  "
      ]
     },
     "execution_count": 2,
     "metadata": {},
     "output_type": "execute_result"
    }
   ],
   "source": [
    "sm = pd.read_csv(\"modeldata.csv\")\n",
    "sm.head()"
   ]
  },
  {
   "cell_type": "code",
   "execution_count": 3,
   "metadata": {},
   "outputs": [],
   "source": [
    "# imported this again just to have ID values in seperate dataframe\n",
    "ID=pd.read_csv(\"modeldata.csv\")"
   ]
  },
  {
   "cell_type": "code",
   "execution_count": 4,
   "metadata": {},
   "outputs": [
    {
     "data": {
      "text/plain": [
       "(334574, 18)"
      ]
     },
     "execution_count": 4,
     "metadata": {},
     "output_type": "execute_result"
    }
   ],
   "source": [
    "sm.shape"
   ]
  },
  {
   "cell_type": "code",
   "execution_count": 5,
   "metadata": {},
   "outputs": [
    {
     "data": {
      "text/html": [
       "<div>\n",
       "<style scoped>\n",
       "    .dataframe tbody tr th:only-of-type {\n",
       "        vertical-align: middle;\n",
       "    }\n",
       "\n",
       "    .dataframe tbody tr th {\n",
       "        vertical-align: top;\n",
       "    }\n",
       "\n",
       "    .dataframe thead th {\n",
       "        text-align: right;\n",
       "    }\n",
       "</style>\n",
       "<table border=\"1\" class=\"dataframe\">\n",
       "  <thead>\n",
       "    <tr style=\"text-align: right;\">\n",
       "      <th></th>\n",
       "      <th>ID</th>\n",
       "      <th>extract_date</th>\n",
       "      <th>skill</th>\n",
       "      <th>job</th>\n",
       "      <th>purpose</th>\n",
       "      <th>target_group</th>\n",
       "      <th>business_group</th>\n",
       "      <th>business_segment</th>\n",
       "      <th>signup_source</th>\n",
       "      <th>signup_category</th>\n",
       "      <th>first_cc_subscription_dts</th>\n",
       "      <th>country_code</th>\n",
       "      <th>product_id</th>\n",
       "      <th>download_attempts</th>\n",
       "      <th>product_platforms</th>\n",
       "      <th>machines</th>\n",
       "      <th>error_codes</th>\n",
       "      <th>label</th>\n",
       "    </tr>\n",
       "  </thead>\n",
       "  <tbody>\n",
       "    <tr>\n",
       "      <th>count</th>\n",
       "      <td>334574.000000</td>\n",
       "      <td>334574</td>\n",
       "      <td>334574</td>\n",
       "      <td>156302</td>\n",
       "      <td>156281</td>\n",
       "      <td>334574</td>\n",
       "      <td>334574</td>\n",
       "      <td>334547</td>\n",
       "      <td>334574</td>\n",
       "      <td>334574</td>\n",
       "      <td>334574</td>\n",
       "      <td>334574</td>\n",
       "      <td>211855</td>\n",
       "      <td>211855.000000</td>\n",
       "      <td>211855</td>\n",
       "      <td>211855.000000</td>\n",
       "      <td>14249</td>\n",
       "      <td>334574.000000</td>\n",
       "    </tr>\n",
       "    <tr>\n",
       "      <th>unique</th>\n",
       "      <td>NaN</td>\n",
       "      <td>1</td>\n",
       "      <td>5</td>\n",
       "      <td>14</td>\n",
       "      <td>5</td>\n",
       "      <td>38</td>\n",
       "      <td>9</td>\n",
       "      <td>6</td>\n",
       "      <td>104</td>\n",
       "      <td>5</td>\n",
       "      <td>173958</td>\n",
       "      <td>42</td>\n",
       "      <td>32219</td>\n",
       "      <td>NaN</td>\n",
       "      <td>3</td>\n",
       "      <td>NaN</td>\n",
       "      <td>1931</td>\n",
       "      <td>NaN</td>\n",
       "    </tr>\n",
       "    <tr>\n",
       "      <th>top</th>\n",
       "      <td>NaN</td>\n",
       "      <td>10-01-2017</td>\n",
       "      <td>BEGINNER</td>\n",
       "      <td>STUDENT</td>\n",
       "      <td>ME_PROFESSIONAL</td>\n",
       "      <td>EDGEN - STUDENT</td>\n",
       "      <td>EDUCATION</td>\n",
       "      <td>INDIVIDUAL</td>\n",
       "      <td>Renga Auto Provisioning</td>\n",
       "      <td>DESKTOP</td>\n",
       "      <td>02-07-2017 00:00</td>\n",
       "      <td>US</td>\n",
       "      <td>xyzz</td>\n",
       "      <td>NaN</td>\n",
       "      <td>WIN</td>\n",
       "      <td>NaN</td>\n",
       "      <td>6</td>\n",
       "      <td>NaN</td>\n",
       "    </tr>\n",
       "    <tr>\n",
       "      <th>freq</th>\n",
       "      <td>NaN</td>\n",
       "      <td>334574</td>\n",
       "      <td>142042</td>\n",
       "      <td>43785</td>\n",
       "      <td>91548</td>\n",
       "      <td>64685</td>\n",
       "      <td>97209</td>\n",
       "      <td>102622</td>\n",
       "      <td>214020</td>\n",
       "      <td>300471</td>\n",
       "      <td>118</td>\n",
       "      <td>281059</td>\n",
       "      <td>38441</td>\n",
       "      <td>NaN</td>\n",
       "      <td>125652</td>\n",
       "      <td>NaN</td>\n",
       "      <td>2039</td>\n",
       "      <td>NaN</td>\n",
       "    </tr>\n",
       "    <tr>\n",
       "      <th>mean</th>\n",
       "      <td>167287.500000</td>\n",
       "      <td>NaN</td>\n",
       "      <td>NaN</td>\n",
       "      <td>NaN</td>\n",
       "      <td>NaN</td>\n",
       "      <td>NaN</td>\n",
       "      <td>NaN</td>\n",
       "      <td>NaN</td>\n",
       "      <td>NaN</td>\n",
       "      <td>NaN</td>\n",
       "      <td>NaN</td>\n",
       "      <td>NaN</td>\n",
       "      <td>NaN</td>\n",
       "      <td>4.048184</td>\n",
       "      <td>NaN</td>\n",
       "      <td>0.880928</td>\n",
       "      <td>NaN</td>\n",
       "      <td>0.053510</td>\n",
       "    </tr>\n",
       "    <tr>\n",
       "      <th>std</th>\n",
       "      <td>96583.338819</td>\n",
       "      <td>NaN</td>\n",
       "      <td>NaN</td>\n",
       "      <td>NaN</td>\n",
       "      <td>NaN</td>\n",
       "      <td>NaN</td>\n",
       "      <td>NaN</td>\n",
       "      <td>NaN</td>\n",
       "      <td>NaN</td>\n",
       "      <td>NaN</td>\n",
       "      <td>NaN</td>\n",
       "      <td>NaN</td>\n",
       "      <td>NaN</td>\n",
       "      <td>8.895695</td>\n",
       "      <td>NaN</td>\n",
       "      <td>0.872541</td>\n",
       "      <td>NaN</td>\n",
       "      <td>0.225048</td>\n",
       "    </tr>\n",
       "    <tr>\n",
       "      <th>min</th>\n",
       "      <td>1.000000</td>\n",
       "      <td>NaN</td>\n",
       "      <td>NaN</td>\n",
       "      <td>NaN</td>\n",
       "      <td>NaN</td>\n",
       "      <td>NaN</td>\n",
       "      <td>NaN</td>\n",
       "      <td>NaN</td>\n",
       "      <td>NaN</td>\n",
       "      <td>NaN</td>\n",
       "      <td>NaN</td>\n",
       "      <td>NaN</td>\n",
       "      <td>NaN</td>\n",
       "      <td>1.000000</td>\n",
       "      <td>NaN</td>\n",
       "      <td>0.000000</td>\n",
       "      <td>NaN</td>\n",
       "      <td>0.000000</td>\n",
       "    </tr>\n",
       "    <tr>\n",
       "      <th>25%</th>\n",
       "      <td>83644.250000</td>\n",
       "      <td>NaN</td>\n",
       "      <td>NaN</td>\n",
       "      <td>NaN</td>\n",
       "      <td>NaN</td>\n",
       "      <td>NaN</td>\n",
       "      <td>NaN</td>\n",
       "      <td>NaN</td>\n",
       "      <td>NaN</td>\n",
       "      <td>NaN</td>\n",
       "      <td>NaN</td>\n",
       "      <td>NaN</td>\n",
       "      <td>NaN</td>\n",
       "      <td>1.000000</td>\n",
       "      <td>NaN</td>\n",
       "      <td>0.000000</td>\n",
       "      <td>NaN</td>\n",
       "      <td>0.000000</td>\n",
       "    </tr>\n",
       "    <tr>\n",
       "      <th>50%</th>\n",
       "      <td>167287.500000</td>\n",
       "      <td>NaN</td>\n",
       "      <td>NaN</td>\n",
       "      <td>NaN</td>\n",
       "      <td>NaN</td>\n",
       "      <td>NaN</td>\n",
       "      <td>NaN</td>\n",
       "      <td>NaN</td>\n",
       "      <td>NaN</td>\n",
       "      <td>NaN</td>\n",
       "      <td>NaN</td>\n",
       "      <td>NaN</td>\n",
       "      <td>NaN</td>\n",
       "      <td>2.000000</td>\n",
       "      <td>NaN</td>\n",
       "      <td>1.000000</td>\n",
       "      <td>NaN</td>\n",
       "      <td>0.000000</td>\n",
       "    </tr>\n",
       "    <tr>\n",
       "      <th>75%</th>\n",
       "      <td>250930.750000</td>\n",
       "      <td>NaN</td>\n",
       "      <td>NaN</td>\n",
       "      <td>NaN</td>\n",
       "      <td>NaN</td>\n",
       "      <td>NaN</td>\n",
       "      <td>NaN</td>\n",
       "      <td>NaN</td>\n",
       "      <td>NaN</td>\n",
       "      <td>NaN</td>\n",
       "      <td>NaN</td>\n",
       "      <td>NaN</td>\n",
       "      <td>NaN</td>\n",
       "      <td>4.000000</td>\n",
       "      <td>NaN</td>\n",
       "      <td>1.000000</td>\n",
       "      <td>NaN</td>\n",
       "      <td>0.000000</td>\n",
       "    </tr>\n",
       "    <tr>\n",
       "      <th>max</th>\n",
       "      <td>334574.000000</td>\n",
       "      <td>NaN</td>\n",
       "      <td>NaN</td>\n",
       "      <td>NaN</td>\n",
       "      <td>NaN</td>\n",
       "      <td>NaN</td>\n",
       "      <td>NaN</td>\n",
       "      <td>NaN</td>\n",
       "      <td>NaN</td>\n",
       "      <td>NaN</td>\n",
       "      <td>NaN</td>\n",
       "      <td>NaN</td>\n",
       "      <td>NaN</td>\n",
       "      <td>1933.000000</td>\n",
       "      <td>NaN</td>\n",
       "      <td>181.000000</td>\n",
       "      <td>NaN</td>\n",
       "      <td>1.000000</td>\n",
       "    </tr>\n",
       "  </tbody>\n",
       "</table>\n",
       "</div>"
      ],
      "text/plain": [
       "                   ID extract_date     skill      job          purpose  \\\n",
       "count   334574.000000       334574    334574   156302           156281   \n",
       "unique            NaN            1         5       14                5   \n",
       "top               NaN   10-01-2017  BEGINNER  STUDENT  ME_PROFESSIONAL   \n",
       "freq              NaN       334574    142042    43785            91548   \n",
       "mean    167287.500000          NaN       NaN      NaN              NaN   \n",
       "std      96583.338819          NaN       NaN      NaN              NaN   \n",
       "min          1.000000          NaN       NaN      NaN              NaN   \n",
       "25%      83644.250000          NaN       NaN      NaN              NaN   \n",
       "50%     167287.500000          NaN       NaN      NaN              NaN   \n",
       "75%     250930.750000          NaN       NaN      NaN              NaN   \n",
       "max     334574.000000          NaN       NaN      NaN              NaN   \n",
       "\n",
       "           target_group business_group business_segment  \\\n",
       "count            334574         334574           334547   \n",
       "unique               38              9                6   \n",
       "top     EDGEN - STUDENT      EDUCATION       INDIVIDUAL   \n",
       "freq              64685          97209           102622   \n",
       "mean                NaN            NaN              NaN   \n",
       "std                 NaN            NaN              NaN   \n",
       "min                 NaN            NaN              NaN   \n",
       "25%                 NaN            NaN              NaN   \n",
       "50%                 NaN            NaN              NaN   \n",
       "75%                 NaN            NaN              NaN   \n",
       "max                 NaN            NaN              NaN   \n",
       "\n",
       "                  signup_source signup_category first_cc_subscription_dts  \\\n",
       "count                    334574          334574                    334574   \n",
       "unique                      104               5                    173958   \n",
       "top     Renga Auto Provisioning         DESKTOP          02-07-2017 00:00   \n",
       "freq                     214020          300471                       118   \n",
       "mean                        NaN             NaN                       NaN   \n",
       "std                         NaN             NaN                       NaN   \n",
       "min                         NaN             NaN                       NaN   \n",
       "25%                         NaN             NaN                       NaN   \n",
       "50%                         NaN             NaN                       NaN   \n",
       "75%                         NaN             NaN                       NaN   \n",
       "max                         NaN             NaN                       NaN   \n",
       "\n",
       "       country_code product_id  download_attempts product_platforms  \\\n",
       "count        334574     211855      211855.000000            211855   \n",
       "unique           42      32219                NaN                 3   \n",
       "top              US       xyzz                NaN               WIN   \n",
       "freq         281059      38441                NaN            125652   \n",
       "mean            NaN        NaN           4.048184               NaN   \n",
       "std             NaN        NaN           8.895695               NaN   \n",
       "min             NaN        NaN           1.000000               NaN   \n",
       "25%             NaN        NaN           1.000000               NaN   \n",
       "50%             NaN        NaN           2.000000               NaN   \n",
       "75%             NaN        NaN           4.000000               NaN   \n",
       "max             NaN        NaN        1933.000000               NaN   \n",
       "\n",
       "             machines error_codes          label  \n",
       "count   211855.000000       14249  334574.000000  \n",
       "unique            NaN        1931            NaN  \n",
       "top               NaN           6            NaN  \n",
       "freq              NaN        2039            NaN  \n",
       "mean         0.880928         NaN       0.053510  \n",
       "std          0.872541         NaN       0.225048  \n",
       "min          0.000000         NaN       0.000000  \n",
       "25%          0.000000         NaN       0.000000  \n",
       "50%          1.000000         NaN       0.000000  \n",
       "75%          1.000000         NaN       0.000000  \n",
       "max        181.000000         NaN       1.000000  "
      ]
     },
     "execution_count": 5,
     "metadata": {},
     "output_type": "execute_result"
    }
   ],
   "source": [
    "sm.describe(include=\"all\")"
   ]
  },
  {
   "cell_type": "code",
   "execution_count": 6,
   "metadata": {},
   "outputs": [
    {
     "name": "stdout",
     "output_type": "stream",
     "text": [
      "<class 'pandas.core.frame.DataFrame'>\n",
      "RangeIndex: 334574 entries, 0 to 334573\n",
      "Data columns (total 18 columns):\n",
      " #   Column                     Non-Null Count   Dtype  \n",
      "---  ------                     --------------   -----  \n",
      " 0   ID                         334574 non-null  int64  \n",
      " 1   extract_date               334574 non-null  object \n",
      " 2   skill                      334574 non-null  object \n",
      " 3   job                        156302 non-null  object \n",
      " 4   purpose                    156281 non-null  object \n",
      " 5   target_group               334574 non-null  object \n",
      " 6   business_group             334574 non-null  object \n",
      " 7   business_segment           334547 non-null  object \n",
      " 8   signup_source              334574 non-null  object \n",
      " 9   signup_category            334574 non-null  object \n",
      " 10  first_cc_subscription_dts  334574 non-null  object \n",
      " 11  country_code               334574 non-null  object \n",
      " 12  product_id                 211855 non-null  object \n",
      " 13  download_attempts          211855 non-null  float64\n",
      " 14  product_platforms          211855 non-null  object \n",
      " 15  machines                   211855 non-null  float64\n",
      " 16  error_codes                14249 non-null   object \n",
      " 17  label                      334574 non-null  int64  \n",
      "dtypes: float64(2), int64(2), object(14)\n",
      "memory usage: 45.9+ MB\n"
     ]
    }
   ],
   "source": [
    "sm.info()"
   ]
  },
  {
   "cell_type": "code",
   "execution_count": 7,
   "metadata": {},
   "outputs": [],
   "source": [
    "# Checking for NA values"
   ]
  },
  {
   "cell_type": "code",
   "execution_count": 8,
   "metadata": {},
   "outputs": [
    {
     "data": {
      "text/plain": [
       "ID                            0.000000\n",
       "extract_date                  0.000000\n",
       "skill                         0.000000\n",
       "job                          53.283280\n",
       "purpose                      53.289556\n",
       "target_group                  0.000000\n",
       "business_group                0.000000\n",
       "business_segment              0.008070\n",
       "signup_source                 0.000000\n",
       "signup_category               0.000000\n",
       "first_cc_subscription_dts     0.000000\n",
       "country_code                  0.000000\n",
       "product_id                   36.679180\n",
       "download_attempts            36.679180\n",
       "product_platforms            36.679180\n",
       "machines                     36.679180\n",
       "error_codes                  95.741151\n",
       "label                         0.000000\n",
       "dtype: float64"
      ]
     },
     "execution_count": 8,
     "metadata": {},
     "output_type": "execute_result"
    }
   ],
   "source": [
    "sm.isna().sum()/len(sm) *100"
   ]
  },
  {
   "cell_type": "code",
   "execution_count": 9,
   "metadata": {},
   "outputs": [],
   "source": [
    "#drop the error column as it has 95% na values\n",
    "sm= sm.drop([\"error_codes\"], axis =1)"
   ]
  },
  {
   "cell_type": "code",
   "execution_count": 10,
   "metadata": {},
   "outputs": [],
   "source": [
    "# We have collected the Nas together as None category since we cannot drop the column, and since we cannot impute it\n",
    "\n",
    "sm.job= sm.job.fillna(\"NONE\")\n",
    "sm.purpose= sm.purpose.fillna(\"OTHER\")"
   ]
  },
  {
   "cell_type": "code",
   "execution_count": 11,
   "metadata": {},
   "outputs": [],
   "source": [
    "# Imputing the remaining columns \n",
    "\n",
    "sm.product_id= sm.product_id.fillna(\"xyzz\")\n",
    "sm.download_attempts= sm.download_attempts.fillna(sm.download_attempts.mean())\n",
    "sm.product_platforms= sm.product_platforms.fillna(\"WIN\")\n",
    "sm.machines=sm.machines.fillna(1)\n",
    "sm.business_segment= sm.business_segment.fillna(\"INDIVIDUAL\")"
   ]
  },
  {
   "cell_type": "code",
   "execution_count": 12,
   "metadata": {},
   "outputs": [
    {
     "data": {
      "text/plain": [
       "ID                           0\n",
       "extract_date                 0\n",
       "skill                        0\n",
       "job                          0\n",
       "purpose                      0\n",
       "target_group                 0\n",
       "business_group               0\n",
       "business_segment             0\n",
       "signup_source                0\n",
       "signup_category              0\n",
       "first_cc_subscription_dts    0\n",
       "country_code                 0\n",
       "product_id                   0\n",
       "download_attempts            0\n",
       "product_platforms            0\n",
       "machines                     0\n",
       "label                        0\n",
       "dtype: int64"
      ]
     },
     "execution_count": 12,
     "metadata": {},
     "output_type": "execute_result"
    }
   ],
   "source": [
    "sm.isna().sum()"
   ]
  },
  {
   "cell_type": "code",
   "execution_count": 13,
   "metadata": {},
   "outputs": [],
   "source": [
    "sm.job.replace({\"UNEXPECTEDVALUE\":\"NONE\", \"IT_PRO\":\"ITSECTOR\",\"WEBMOBILEDESIGN\":\"ITSECTOR\",\n",
    "               \"DEVELOPER\":\"ITSECTOR\",\"PRINTGRAPHICDESIGN\":\"ITSECTOR\",\"PHOTOGRAPHER\":\"ENTERTAINMENT\",\n",
    "               \"BIZ_PRO\":\"ENTERTAINMENT\",\"VIDEO\":\"ENTERTAINMENT\",\"MARKETING\":\"OTHER\",\"PURCHASEMANAGER\":\"OTHER\",\n",
    "               \"STUDENT\":\"ACADEMIC\",\"UNEXPECTEDVALUE\":\"OTHER\"}, inplace=True)"
   ]
  },
  {
   "cell_type": "code",
   "execution_count": 14,
   "metadata": {},
   "outputs": [],
   "source": [
    "sm.target_group.replace({\"EDGEN - STUDENT\":\"EDUCATION\",\"EDUCATION - GENERAL\":\"EDUCATION\",\n",
    "                         \"HED - ED/FAC/STAFF\":\"EDUCATION\",\n",
    "                        \"EDGEN - AD/ED/FAC/STAFF\":\"EDUCATION\",\"HED - STUDENT\":\"EDUCATION\",\n",
    "                        \"HED - ADMIN\":\"EDUCATION\",\"APPLICATION DEVELOPER\":\"IT PROFESSIONAL\",\n",
    "                        \"DIGITAL IMAGING PROFESSIONAL\":\"ENTERTAINMENT\",\"MOBILE DEVELOPER\":\"IT PROFESSIONAL\",\n",
    "                         \"WEB DESIGN\":\"IT PROFESSIONAL\",\"WEB DEVELOPER\":\"IT PROFESSIONAL\",\n",
    "                         \"DIGITAL VIDEO\":\"ENTERTAINMENT\",\"PHOTOGRAPHER\":\"ENTERTAINMENT\",\n",
    "                        \"MOBILE HOBBYIST\":\"HOBBYIST\",\"K-12 - ED/FAC/STAFF\":\"EDUCATION\",\"DC FREE\":\"OTHERS\",\n",
    "                        \"DI PRO - MOBILE USER\":\"OTHERS\",\"KW ACROBAT.COM - SAAS USER\":\"OTHERS\",\n",
    "                        \"DESIGN AND PRINT - MOBILE USER\":\"OTHERS\",\"K-12 - ADMIN\":\"EDUCATION\",\n",
    "                        \"KW EXPORT - SAAS USER\":\"OTHERS\",\"SCIENCE/ENGINEERING\":\"EDUCATION\",\n",
    "                        \"CROSS MEDIA\":\"ADVERTISING / MEDIA / PUBLISHING\",\"HOBBYIST - SAAS USER\":\"OTHERS\",\n",
    "                        \"SAAS UQFM\":\"OTHERS\",\"KW FORMSCENTRAL - SAAS USER\":\"OTHERS\",\"KW SENDNOW - SAAS USER\":\"OTHERS\",\n",
    "                        \"DIGITAL VIDEO - SAAS USER\":\"OTHERS\",\"<UNKNOWN>\":\"OTHERS\",\n",
    "                         \"PRINT AND SERVICE PROVIDER\":\"PROFESSIONAL SERVICE\",\n",
    "                        \"FSI\":\"PROFESSIONAL SERVICE\",\"CONSTRUCTION/MANUFACTURING\":\"PROFESSIONAL SERVICE\"},inplace=True)"
   ]
  },
  {
   "cell_type": "code",
   "execution_count": 15,
   "metadata": {},
   "outputs": [],
   "source": [
    "sm.business_segment.replace({\"EDU INSTITUTE\":\"EDUCATION FIELD\",\"EDU STUDENT STAFF\":\"EDUCATION FIELD\"},inplace=True)"
   ]
  },
  {
   "cell_type": "code",
   "execution_count": 16,
   "metadata": {},
   "outputs": [],
   "source": [
    "sm.business_group.replace({\"DIGITAL IMAGING PROFESSIONAL\":\"ENTERTAINMENT\",\"DIGITAL VIDEO\":\"ENTERTAINMENT\",\n",
    "                          \"WEB PROFESSIONAL\":\"IT SECTOR\",\"DEVELOPER\":\"IT SECTOR\",\"<UNKNOWN>\":\"OTHERS\"},inplace=True)"
   ]
  },
  {
   "cell_type": "code",
   "execution_count": 17,
   "metadata": {},
   "outputs": [],
   "source": [
    "sm.country_code.replace({\"US\":\"NORTH AMERICA\",\"CA\":\"NORTH AMERICA\",\"MX\":\"NORTH AMERICA\",\"BR\":\"SOUTH AMERICA\",\n",
    "                         \"CO\":\"SOUTH AMERICA\",\"AR\":\"SOUTH AMERICA\",\"CL\":\"SOUTH AMERICA\",\"PE\":\"SOUTH AMERICA\",\n",
    "                        \"CR\":\"NORTH AMERICA\",\"GT\":\"NORTH AMERICA\",\"EC\":\"SOUTH AMERICA\",\"VE\":\"SOUTH AMERICA\",\n",
    "                       \"DO\":\"NORTH AMERICA\",\"PA\":\"NORTH AMERICA\",\"UY\":\"SOUTH AMERICA\",\"PY\":\"SOUTH AMERICA\",\n",
    "                        \"SV\":\"NORTH AMERICA\",\"JM\":\"NORTH AMERICA\",\"HN\":\"NORTH AMERICA\",\"TT\":\"NORTH AMERICA\",\n",
    "                        \"NI\":\"NORTH AMERICA\",\"BM\":\"NORTH AMERICA\",\"AG\":\"NORTH AMERICA\",\"GP\":\"NORTH AMERICA\",\n",
    "                        \"BS\":\"NORTH AMERICA\",\"GL\":\"NORTH AMERICA\",\"MQ\":\"NORTH AMERICA\",\"AW\":\"SOUTH AMERICA\",\n",
    "                       \"SR\":\"SOUTH AMERICA\",\"AN\":\"SOUTH AMERICA\",\"BB\":\"NORTH AMERICA\",\"UM\":\"NORTH AMERICA\",\n",
    "                        \"HT\":\"NORTH AMERICA\",\"VG\":\"NORTH AMERICA\",\"SH\":\"SOUTH AMERICA\",\"KY\":\"NORTH AMERICA\",\n",
    "                        \"BO\":\"SOUTH AMERICA\",\"DM\":\"NORTH AMERICA\",\"GD\":\"NORTH AMERICA\",\"BZ\":\"NORTH AMERICA\",\n",
    "                       \"MS\":\"NORTH AMERICA\",\"GY\":\"SOUTH AMERICA\"},inplace= True)"
   ]
  },
  {
   "cell_type": "code",
   "execution_count": 18,
   "metadata": {},
   "outputs": [],
   "source": [
    "# Converting the date columns\n",
    "#sm.first_cc_subscription_dts=pd.to_datetime(sm.first_cc_subscription_dts)"
   ]
  },
  {
   "cell_type": "code",
   "execution_count": 19,
   "metadata": {},
   "outputs": [],
   "source": [
    "sm.drop([\"extract_date\",\"product_id\",\"first_cc_subscription_dts\",\"ID\"],axis=1,inplace=True)"
   ]
  },
  {
   "cell_type": "code",
   "execution_count": 20,
   "metadata": {},
   "outputs": [
    {
     "data": {
      "text/html": [
       "<div>\n",
       "<style scoped>\n",
       "    .dataframe tbody tr th:only-of-type {\n",
       "        vertical-align: middle;\n",
       "    }\n",
       "\n",
       "    .dataframe tbody tr th {\n",
       "        vertical-align: top;\n",
       "    }\n",
       "\n",
       "    .dataframe thead th {\n",
       "        text-align: right;\n",
       "    }\n",
       "</style>\n",
       "<table border=\"1\" class=\"dataframe\">\n",
       "  <thead>\n",
       "    <tr style=\"text-align: right;\">\n",
       "      <th></th>\n",
       "      <th>skill</th>\n",
       "      <th>job</th>\n",
       "      <th>purpose</th>\n",
       "      <th>target_group</th>\n",
       "      <th>business_group</th>\n",
       "      <th>business_segment</th>\n",
       "      <th>signup_source</th>\n",
       "      <th>signup_category</th>\n",
       "      <th>country_code</th>\n",
       "      <th>download_attempts</th>\n",
       "      <th>product_platforms</th>\n",
       "      <th>machines</th>\n",
       "      <th>label</th>\n",
       "    </tr>\n",
       "  </thead>\n",
       "  <tbody>\n",
       "    <tr>\n",
       "      <th>0</th>\n",
       "      <td>BEGINNER</td>\n",
       "      <td>ACADEMIC</td>\n",
       "      <td>ME_PROFESSIONAL</td>\n",
       "      <td>EDUCATION</td>\n",
       "      <td>EDUCATION</td>\n",
       "      <td>EDUCATION FIELD</td>\n",
       "      <td>Creative Cloud</td>\n",
       "      <td>DESKTOP</td>\n",
       "      <td>NORTH AMERICA</td>\n",
       "      <td>2.0</td>\n",
       "      <td>MAC</td>\n",
       "      <td>1.0</td>\n",
       "      <td>0</td>\n",
       "    </tr>\n",
       "    <tr>\n",
       "      <th>1</th>\n",
       "      <td>BEGINNER</td>\n",
       "      <td>ACADEMIC</td>\n",
       "      <td>ME_PROFESSIONAL</td>\n",
       "      <td>EDUCATION</td>\n",
       "      <td>EDUCATION</td>\n",
       "      <td>EDUCATION FIELD</td>\n",
       "      <td>Renga Auto Provisioning</td>\n",
       "      <td>DESKTOP</td>\n",
       "      <td>NORTH AMERICA</td>\n",
       "      <td>1.0</td>\n",
       "      <td>WIN</td>\n",
       "      <td>0.0</td>\n",
       "      <td>0</td>\n",
       "    </tr>\n",
       "    <tr>\n",
       "      <th>2</th>\n",
       "      <td>BEGINNER</td>\n",
       "      <td>NONE</td>\n",
       "      <td>OTHER</td>\n",
       "      <td>HOBBYIST</td>\n",
       "      <td>HOBBYIST</td>\n",
       "      <td>PHOTO</td>\n",
       "      <td>Draw (iOS)</td>\n",
       "      <td>MOBILE</td>\n",
       "      <td>NORTH AMERICA</td>\n",
       "      <td>3.0</td>\n",
       "      <td>MAC:WIN</td>\n",
       "      <td>1.0</td>\n",
       "      <td>0</td>\n",
       "    </tr>\n",
       "    <tr>\n",
       "      <th>3</th>\n",
       "      <td>BEGINNER</td>\n",
       "      <td>ACADEMIC</td>\n",
       "      <td>ME_NONPROFESSIONAL</td>\n",
       "      <td>EDUCATION</td>\n",
       "      <td>EDUCATION</td>\n",
       "      <td>EDUCATION FIELD</td>\n",
       "      <td>Renga Auto Provisioning</td>\n",
       "      <td>DESKTOP</td>\n",
       "      <td>NORTH AMERICA</td>\n",
       "      <td>2.0</td>\n",
       "      <td>WIN</td>\n",
       "      <td>1.0</td>\n",
       "      <td>0</td>\n",
       "    </tr>\n",
       "    <tr>\n",
       "      <th>4</th>\n",
       "      <td>BEGINNER</td>\n",
       "      <td>ACADEMIC</td>\n",
       "      <td>ME_PROFESSIONAL</td>\n",
       "      <td>EDUCATION</td>\n",
       "      <td>EDUCATION</td>\n",
       "      <td>EDUCATION FIELD</td>\n",
       "      <td>Renga Auto Provisioning</td>\n",
       "      <td>DESKTOP</td>\n",
       "      <td>NORTH AMERICA</td>\n",
       "      <td>1.0</td>\n",
       "      <td>MAC</td>\n",
       "      <td>0.0</td>\n",
       "      <td>0</td>\n",
       "    </tr>\n",
       "  </tbody>\n",
       "</table>\n",
       "</div>"
      ],
      "text/plain": [
       "      skill       job             purpose target_group business_group  \\\n",
       "0  BEGINNER  ACADEMIC     ME_PROFESSIONAL    EDUCATION      EDUCATION   \n",
       "1  BEGINNER  ACADEMIC     ME_PROFESSIONAL    EDUCATION      EDUCATION   \n",
       "2  BEGINNER      NONE               OTHER     HOBBYIST       HOBBYIST   \n",
       "3  BEGINNER  ACADEMIC  ME_NONPROFESSIONAL    EDUCATION      EDUCATION   \n",
       "4  BEGINNER  ACADEMIC     ME_PROFESSIONAL    EDUCATION      EDUCATION   \n",
       "\n",
       "  business_segment            signup_source signup_category   country_code  \\\n",
       "0  EDUCATION FIELD           Creative Cloud         DESKTOP  NORTH AMERICA   \n",
       "1  EDUCATION FIELD  Renga Auto Provisioning         DESKTOP  NORTH AMERICA   \n",
       "2            PHOTO               Draw (iOS)          MOBILE  NORTH AMERICA   \n",
       "3  EDUCATION FIELD  Renga Auto Provisioning         DESKTOP  NORTH AMERICA   \n",
       "4  EDUCATION FIELD  Renga Auto Provisioning         DESKTOP  NORTH AMERICA   \n",
       "\n",
       "   download_attempts product_platforms  machines  label  \n",
       "0                2.0               MAC       1.0      0  \n",
       "1                1.0               WIN       0.0      0  \n",
       "2                3.0           MAC:WIN       1.0      0  \n",
       "3                2.0               WIN       1.0      0  \n",
       "4                1.0               MAC       0.0      0  "
      ]
     },
     "execution_count": 20,
     "metadata": {},
     "output_type": "execute_result"
    }
   ],
   "source": [
    "sm.head()"
   ]
  },
  {
   "cell_type": "code",
   "execution_count": 21,
   "metadata": {},
   "outputs": [],
   "source": [
    "# Exporting cleaned data for using it for EDA in Power BI"
   ]
  },
  {
   "cell_type": "code",
   "execution_count": 22,
   "metadata": {},
   "outputs": [],
   "source": [
    "#capstone=sm"
   ]
  },
  {
   "cell_type": "code",
   "execution_count": 23,
   "metadata": {},
   "outputs": [],
   "source": [
    "#capstone.to_csv(\"capstone.csv\",index=False)"
   ]
  },
  {
   "cell_type": "code",
   "execution_count": null,
   "metadata": {},
   "outputs": [],
   "source": []
  },
  {
   "cell_type": "markdown",
   "metadata": {},
   "source": [
    "# EXPLORATORY DATA ANALYSIS"
   ]
  },
  {
   "cell_type": "code",
   "execution_count": 24,
   "metadata": {},
   "outputs": [],
   "source": [
    "# Eda was performed using Power BI"
   ]
  },
  {
   "cell_type": "code",
   "execution_count": 25,
   "metadata": {},
   "outputs": [
    {
     "data": {
      "text/plain": [
       "Text(0.5, 1.0, 'Count of Target Variable')"
      ]
     },
     "execution_count": 25,
     "metadata": {},
     "output_type": "execute_result"
    },
    {
     "data": {
      "image/png": "[encoded data removed]",
      "text/plain": [
       "<Figure size 432x288 with 1 Axes>"
      ]
     },
     "metadata": {
      "needs_background": "light"
     },
     "output_type": "display_data"
    }
   ],
   "source": [
    "sns.countplot(sm.label)\n",
    "plt.title(\"Count of Target Variable\",size=20)"
   ]
  },
  {
   "cell_type": "code",
   "execution_count": 26,
   "metadata": {},
   "outputs": [
    {
     "data": {
      "text/plain": [
       "<matplotlib.legend.Legend at 0x75e9176ee0>"
      ]
     },
     "execution_count": 26,
     "metadata": {},
     "output_type": "execute_result"
    },
    {
     "data": {
      "image/png": "[encoded data removed]",
      "text/plain": [
       "<Figure size 720x432 with 1 Axes>"
      ]
     },
     "metadata": {
      "needs_background": "light"
     },
     "output_type": "display_data"
    }
   ],
   "source": [
    "plt.figure(figsize=(10,6))\n",
    "sns.countplot(sm.job,hue=sm.label)\n",
    "plt.legend()"
   ]
  },
  {
   "cell_type": "code",
   "execution_count": null,
   "metadata": {},
   "outputs": [],
   "source": []
  },
  {
   "cell_type": "code",
   "execution_count": 27,
   "metadata": {},
   "outputs": [
    {
     "data": {
      "text/plain": [
       "<matplotlib.legend.Legend at 0x75e914ee20>"
      ]
     },
     "execution_count": 27,
     "metadata": {},
     "output_type": "execute_result"
    },
    {
     "data": {
      "image/png": "[encoded data removed]",
      "text/plain": [
       "<Figure size 1080x432 with 1 Axes>"
      ]
     },
     "metadata": {
      "needs_background": "light"
     },
     "output_type": "display_data"
    }
   ],
   "source": [
    "plt.figure(figsize=(15,6))\n",
    "sns.countplot(sm.purpose,hue=sm.label)\n",
    "plt.legend()"
   ]
  },
  {
   "cell_type": "code",
   "execution_count": null,
   "metadata": {},
   "outputs": [],
   "source": []
  },
  {
   "cell_type": "markdown",
   "metadata": {},
   "source": [
    "# LABEL ENCODING"
   ]
  },
  {
   "cell_type": "code",
   "execution_count": 28,
   "metadata": {},
   "outputs": [],
   "source": [
    "from sklearn.preprocessing import LabelEncoder\n",
    "le=LabelEncoder()"
   ]
  },
  {
   "cell_type": "code",
   "execution_count": 29,
   "metadata": {},
   "outputs": [],
   "source": [
    "sm[sm.select_dtypes(include=\"object\").columns] =sm[sm.select_dtypes(include=\"object\").columns].apply(le.fit_transform)"
   ]
  },
  {
   "cell_type": "code",
   "execution_count": 30,
   "metadata": {},
   "outputs": [
    {
     "data": {
      "text/html": [
       "<div>\n",
       "<style scoped>\n",
       "    .dataframe tbody tr th:only-of-type {\n",
       "        vertical-align: middle;\n",
       "    }\n",
       "\n",
       "    .dataframe tbody tr th {\n",
       "        vertical-align: top;\n",
       "    }\n",
       "\n",
       "    .dataframe thead th {\n",
       "        text-align: right;\n",
       "    }\n",
       "</style>\n",
       "<table border=\"1\" class=\"dataframe\">\n",
       "  <thead>\n",
       "    <tr style=\"text-align: right;\">\n",
       "      <th></th>\n",
       "      <th>skill</th>\n",
       "      <th>job</th>\n",
       "      <th>purpose</th>\n",
       "      <th>target_group</th>\n",
       "      <th>business_group</th>\n",
       "      <th>business_segment</th>\n",
       "      <th>signup_source</th>\n",
       "      <th>signup_category</th>\n",
       "      <th>country_code</th>\n",
       "      <th>download_attempts</th>\n",
       "      <th>product_platforms</th>\n",
       "      <th>machines</th>\n",
       "      <th>label</th>\n",
       "    </tr>\n",
       "  </thead>\n",
       "  <tbody>\n",
       "    <tr>\n",
       "      <th>0</th>\n",
       "      <td>0</td>\n",
       "      <td>0</td>\n",
       "      <td>1</td>\n",
       "      <td>2</td>\n",
       "      <td>1</td>\n",
       "      <td>0</td>\n",
       "      <td>25</td>\n",
       "      <td>1</td>\n",
       "      <td>0</td>\n",
       "      <td>2.0</td>\n",
       "      <td>0</td>\n",
       "      <td>1.0</td>\n",
       "      <td>0</td>\n",
       "    </tr>\n",
       "    <tr>\n",
       "      <th>1</th>\n",
       "      <td>0</td>\n",
       "      <td>0</td>\n",
       "      <td>1</td>\n",
       "      <td>2</td>\n",
       "      <td>1</td>\n",
       "      <td>0</td>\n",
       "      <td>86</td>\n",
       "      <td>1</td>\n",
       "      <td>0</td>\n",
       "      <td>1.0</td>\n",
       "      <td>2</td>\n",
       "      <td>0.0</td>\n",
       "      <td>0</td>\n",
       "    </tr>\n",
       "    <tr>\n",
       "      <th>2</th>\n",
       "      <td>0</td>\n",
       "      <td>4</td>\n",
       "      <td>4</td>\n",
       "      <td>4</td>\n",
       "      <td>3</td>\n",
       "      <td>3</td>\n",
       "      <td>28</td>\n",
       "      <td>3</td>\n",
       "      <td>0</td>\n",
       "      <td>3.0</td>\n",
       "      <td>1</td>\n",
       "      <td>1.0</td>\n",
       "      <td>0</td>\n",
       "    </tr>\n",
       "    <tr>\n",
       "      <th>3</th>\n",
       "      <td>0</td>\n",
       "      <td>0</td>\n",
       "      <td>0</td>\n",
       "      <td>2</td>\n",
       "      <td>1</td>\n",
       "      <td>0</td>\n",
       "      <td>86</td>\n",
       "      <td>1</td>\n",
       "      <td>0</td>\n",
       "      <td>2.0</td>\n",
       "      <td>2</td>\n",
       "      <td>1.0</td>\n",
       "      <td>0</td>\n",
       "    </tr>\n",
       "    <tr>\n",
       "      <th>4</th>\n",
       "      <td>0</td>\n",
       "      <td>0</td>\n",
       "      <td>1</td>\n",
       "      <td>2</td>\n",
       "      <td>1</td>\n",
       "      <td>0</td>\n",
       "      <td>86</td>\n",
       "      <td>1</td>\n",
       "      <td>0</td>\n",
       "      <td>1.0</td>\n",
       "      <td>0</td>\n",
       "      <td>0.0</td>\n",
       "      <td>0</td>\n",
       "    </tr>\n",
       "  </tbody>\n",
       "</table>\n",
       "</div>"
      ],
      "text/plain": [
       "   skill  job  purpose  target_group  business_group  business_segment  \\\n",
       "0      0    0        1             2               1                 0   \n",
       "1      0    0        1             2               1                 0   \n",
       "2      0    4        4             4               3                 3   \n",
       "3      0    0        0             2               1                 0   \n",
       "4      0    0        1             2               1                 0   \n",
       "\n",
       "   signup_source  signup_category  country_code  download_attempts  \\\n",
       "0             25                1             0                2.0   \n",
       "1             86                1             0                1.0   \n",
       "2             28                3             0                3.0   \n",
       "3             86                1             0                2.0   \n",
       "4             86                1             0                1.0   \n",
       "\n",
       "   product_platforms  machines  label  \n",
       "0                  0       1.0      0  \n",
       "1                  2       0.0      0  \n",
       "2                  1       1.0      0  \n",
       "3                  2       1.0      0  \n",
       "4                  0       0.0      0  "
      ]
     },
     "execution_count": 30,
     "metadata": {},
     "output_type": "execute_result"
    }
   ],
   "source": [
    "sm.head()"
   ]
  },
  {
   "cell_type": "code",
   "execution_count": null,
   "metadata": {},
   "outputs": [],
   "source": []
  },
  {
   "cell_type": "markdown",
   "metadata": {},
   "source": [
    "# OVER SAMPLING"
   ]
  },
  {
   "cell_type": "code",
   "execution_count": 31,
   "metadata": {},
   "outputs": [],
   "source": [
    "from sklearn.model_selection import train_test_split\n",
    "sm_train,sm_test = train_test_split(sm, test_size=0.3)"
   ]
  },
  {
   "cell_type": "code",
   "execution_count": null,
   "metadata": {},
   "outputs": [],
   "source": []
  },
  {
   "cell_type": "code",
   "execution_count": 32,
   "metadata": {},
   "outputs": [],
   "source": [
    "df=sm_train[sm_train.label==1]"
   ]
  },
  {
   "cell_type": "code",
   "execution_count": 33,
   "metadata": {},
   "outputs": [],
   "source": [
    "sm_train= pd.concat([sm_train,df,df,df,df,df,df,df,df,df,df,df], axis=0)"
   ]
  },
  {
   "cell_type": "code",
   "execution_count": 34,
   "metadata": {},
   "outputs": [
    {
     "data": {
      "text/plain": [
       "0    221657\n",
       "1    150528\n",
       "Name: label, dtype: int64"
      ]
     },
     "execution_count": 34,
     "metadata": {},
     "output_type": "execute_result"
    }
   ],
   "source": [
    "sm_train.label.value_counts()"
   ]
  },
  {
   "cell_type": "code",
   "execution_count": null,
   "metadata": {},
   "outputs": [],
   "source": []
  },
  {
   "cell_type": "code",
   "execution_count": 35,
   "metadata": {},
   "outputs": [],
   "source": [
    "sm_x_train=sm_train.iloc[:,0:12]\n",
    "sm_x_test=sm_test.iloc[:,0:12]\n",
    "sm_y_train=sm_train.iloc[:,12]\n",
    "sm_y_test=sm_test.iloc[:,12]"
   ]
  },
  {
   "cell_type": "code",
   "execution_count": null,
   "metadata": {},
   "outputs": [],
   "source": []
  },
  {
   "cell_type": "code",
   "execution_count": 36,
   "metadata": {},
   "outputs": [],
   "source": [
    "from sklearn.metrics import accuracy_score, precision_score, recall_score, f1_score,roc_auc_score,make_scorer"
   ]
  },
  {
   "cell_type": "code",
   "execution_count": 37,
   "metadata": {},
   "outputs": [],
   "source": [
    "# User define function for model report\n",
    "\n",
    "def model_report(actual,predicted):\n",
    "    print(\"Accuracy score= \", accuracy_score(actual,predicted))\n",
    "    print(\"Precision Score= \", precision_score(actual,predicted))\n",
    "    print(\"Recall= \", recall_score(actual,predicted))\n",
    "    print(\"F1score= \", f1_score(actual,predicted))\n",
    "    print(\"Roc score= \", roc_auc_score(actual,predicted))"
   ]
  },
  {
   "cell_type": "code",
   "execution_count": null,
   "metadata": {},
   "outputs": [],
   "source": []
  },
  {
   "cell_type": "markdown",
   "metadata": {},
   "source": [
    "# LOGISTIC REGRESSION"
   ]
  },
  {
   "cell_type": "code",
   "execution_count": 38,
   "metadata": {},
   "outputs": [],
   "source": [
    " from sklearn.linear_model import LogisticRegression\n",
    "log= LogisticRegression(class_weight={0:0.4,1:0.6})"
   ]
  },
  {
   "cell_type": "code",
   "execution_count": 39,
   "metadata": {},
   "outputs": [
    {
     "name": "stderr",
     "output_type": "stream",
     "text": [
      "C:\\Users\\Admin\\anaconda3\\lib\\site-packages\\sklearn\\linear_model\\_logistic.py:762: ConvergenceWarning: lbfgs failed to converge (status=1):\n",
      "STOP: TOTAL NO. of ITERATIONS REACHED LIMIT.\n",
      "\n",
      "Increase the number of iterations (max_iter) or scale the data as shown in:\n",
      "    https://scikit-learn.org/stable/modules/preprocessing.html\n",
      "Please also refer to the documentation for alternative solver options:\n",
      "    https://scikit-learn.org/stable/modules/linear_model.html#logistic-regression\n",
      "  n_iter_i = _check_optimize_result(\n"
     ]
    },
    {
     "data": {
      "text/plain": [
       "LogisticRegression(class_weight={0: 0.4, 1: 0.6})"
      ]
     },
     "execution_count": 39,
     "metadata": {},
     "output_type": "execute_result"
    }
   ],
   "source": [
    "log.fit(sm_x_train,sm_y_train)"
   ]
  },
  {
   "cell_type": "code",
   "execution_count": 40,
   "metadata": {},
   "outputs": [],
   "source": [
    "pred_log= log.predict(sm_x_test)\n"
   ]
  },
  {
   "cell_type": "code",
   "execution_count": 41,
   "metadata": {},
   "outputs": [],
   "source": [
    "from sklearn.metrics import confusion_matrix"
   ]
  },
  {
   "cell_type": "code",
   "execution_count": 42,
   "metadata": {},
   "outputs": [
    {
     "data": {
      "text/plain": [
       "array([[51428,  2144],\n",
       "       [43586,  3215]], dtype=int64)"
      ]
     },
     "execution_count": 42,
     "metadata": {},
     "output_type": "execute_result"
    }
   ],
   "source": [
    "tab_log= confusion_matrix(pred_log, sm_y_test)\n",
    "tab_log"
   ]
  },
  {
   "cell_type": "code",
   "execution_count": 43,
   "metadata": {},
   "outputs": [
    {
     "name": "stdout",
     "output_type": "stream",
     "text": [
      "Accuracy score=  0.544399390274277\n",
      "Precision Score=  0.06869511335227879\n",
      "Recall=  0.5999253592088076\n",
      "F1score=  0.1232745398773006\n",
      "Roc score=  0.570596480938944\n"
     ]
    }
   ],
   "source": [
    "model_report(sm_y_test,pred_log)"
   ]
  },
  {
   "cell_type": "code",
   "execution_count": 44,
   "metadata": {},
   "outputs": [],
   "source": [
    "Accuracy_log = accuracy_score(sm_y_test,pred_log)\n",
    "Precision_log= precision_score(sm_y_test,pred_log)\n",
    "Recall_log = recall_score(sm_y_test,pred_log)\n",
    "F1_score_log=f1_score(sm_y_test,pred_log)\n",
    "Roc_Score_log= roc_auc_score(sm_y_test,pred_log)"
   ]
  },
  {
   "cell_type": "code",
   "execution_count": null,
   "metadata": {},
   "outputs": [],
   "source": []
  },
  {
   "cell_type": "code",
   "execution_count": null,
   "metadata": {},
   "outputs": [],
   "source": []
  },
  {
   "cell_type": "markdown",
   "metadata": {},
   "source": [
    "# Decision Tree"
   ]
  },
  {
   "cell_type": "code",
   "execution_count": 45,
   "metadata": {},
   "outputs": [],
   "source": [
    "from sklearn.tree import DecisionTreeClassifier"
   ]
  },
  {
   "cell_type": "code",
   "execution_count": 46,
   "metadata": {},
   "outputs": [],
   "source": [
    "dt= DecisionTreeClassifier(max_depth=9,min_samples_split=500,min_samples_leaf=500, class_weight={0:0.37,1:0.63})"
   ]
  },
  {
   "cell_type": "code",
   "execution_count": 47,
   "metadata": {},
   "outputs": [
    {
     "data": {
      "text/plain": [
       "DecisionTreeClassifier(class_weight={0: 0.37, 1: 0.63}, max_depth=9,\n",
       "                       min_samples_leaf=500, min_samples_split=500)"
      ]
     },
     "execution_count": 47,
     "metadata": {},
     "output_type": "execute_result"
    }
   ],
   "source": [
    "dt.fit(sm_x_train,sm_y_train)"
   ]
  },
  {
   "cell_type": "code",
   "execution_count": 48,
   "metadata": {},
   "outputs": [],
   "source": [
    "pred_dec= dt.predict(sm_x_test)\n"
   ]
  },
  {
   "cell_type": "code",
   "execution_count": 49,
   "metadata": {},
   "outputs": [
    {
     "data": {
      "text/plain": [
       "array([[51470,  1268],\n",
       "       [43544,  4091]], dtype=int64)"
      ]
     },
     "execution_count": 49,
     "metadata": {},
     "output_type": "execute_result"
    }
   ],
   "source": [
    "tab_dec= confusion_matrix(pred_dec, sm_y_test)\n",
    "tab_dec"
   ]
  },
  {
   "cell_type": "code",
   "execution_count": 50,
   "metadata": {},
   "outputs": [
    {
     "name": "stdout",
     "output_type": "stream",
     "text": [
      "Accuracy score=  0.5535452761200721\n",
      "Precision Score=  0.0858822294531332\n",
      "Recall=  0.7633886919201344\n",
      "F1score=  0.15439483715137564\n",
      "Roc score=  0.6525491673548091\n"
     ]
    }
   ],
   "source": [
    "model_report(sm_y_test,pred_dec)"
   ]
  },
  {
   "cell_type": "code",
   "execution_count": 51,
   "metadata": {},
   "outputs": [],
   "source": [
    "Accuracy_dec = accuracy_score(sm_y_test,pred_dec)\n",
    "Precision_dec= precision_score(sm_y_test,pred_dec)\n",
    "Recall_dec = recall_score(sm_y_test,pred_dec)\n",
    "F1_score_dec=f1_score(sm_y_test,pred_dec)\n",
    "Roc_Score_dec= roc_auc_score(sm_y_test,pred_dec)"
   ]
  },
  {
   "cell_type": "code",
   "execution_count": null,
   "metadata": {},
   "outputs": [],
   "source": []
  },
  {
   "cell_type": "markdown",
   "metadata": {},
   "source": [
    "# ADABOOST"
   ]
  },
  {
   "cell_type": "code",
   "execution_count": 52,
   "metadata": {},
   "outputs": [],
   "source": [
    "from sklearn.ensemble import AdaBoostClassifier\n",
    "adb=AdaBoostClassifier(dt,n_estimators=100)"
   ]
  },
  {
   "cell_type": "code",
   "execution_count": 53,
   "metadata": {},
   "outputs": [
    {
     "data": {
      "text/plain": [
       "AdaBoostClassifier(base_estimator=DecisionTreeClassifier(class_weight={0: 0.37,\n",
       "                                                                       1: 0.63},\n",
       "                                                         max_depth=9,\n",
       "                                                         min_samples_leaf=500,\n",
       "                                                         min_samples_split=500),\n",
       "                   n_estimators=100)"
      ]
     },
     "execution_count": 53,
     "metadata": {},
     "output_type": "execute_result"
    }
   ],
   "source": [
    "adb.fit(sm_x_train,sm_y_train)"
   ]
  },
  {
   "cell_type": "code",
   "execution_count": 54,
   "metadata": {},
   "outputs": [],
   "source": [
    "pred_adb=adb.predict(sm_x_test)"
   ]
  },
  {
   "cell_type": "code",
   "execution_count": 55,
   "metadata": {},
   "outputs": [
    {
     "data": {
      "text/plain": [
       "array([[62848,  1971],\n",
       "       [32166,  3388]], dtype=int64)"
      ]
     },
     "execution_count": 55,
     "metadata": {},
     "output_type": "execute_result"
    }
   ],
   "source": [
    "tab= confusion_matrix(pred_adb,sm_y_test)\n",
    "tab"
   ]
  },
  {
   "cell_type": "code",
   "execution_count": 56,
   "metadata": {},
   "outputs": [
    {
     "name": "stdout",
     "output_type": "stream",
     "text": [
      "Accuracy score=  0.6598985783029301\n",
      "Precision Score=  0.0952916690105192\n",
      "Recall=  0.6322075013995149\n",
      "F1score=  0.16561972967027594\n",
      "Roc score=  0.6468339588796047\n"
     ]
    }
   ],
   "source": [
    "model_report(sm_y_test,pred_adb)"
   ]
  },
  {
   "cell_type": "code",
   "execution_count": 57,
   "metadata": {},
   "outputs": [],
   "source": [
    "Accuracy_adb = accuracy_score(sm_y_test,pred_adb)\n",
    "Precision_adb= precision_score(sm_y_test,pred_adb)\n",
    "Recall_adb = recall_score(sm_y_test,pred_adb)\n",
    "F1_score_adb=f1_score(sm_y_test,pred_adb)\n",
    "Roc_Score_adb= roc_auc_score(sm_y_test,pred_adb)"
   ]
  },
  {
   "cell_type": "code",
   "execution_count": null,
   "metadata": {},
   "outputs": [],
   "source": []
  },
  {
   "cell_type": "code",
   "execution_count": null,
   "metadata": {},
   "outputs": [],
   "source": []
  },
  {
   "cell_type": "markdown",
   "metadata": {},
   "source": [
    "# Randomforest"
   ]
  },
  {
   "cell_type": "code",
   "execution_count": 58,
   "metadata": {},
   "outputs": [],
   "source": [
    "from sklearn.ensemble import RandomForestClassifier\n",
    "rf=RandomForestClassifier(n_estimators=150, max_depth=9,min_samples_split=500,class_weight={0:0.39,1:0.61})\n"
   ]
  },
  {
   "cell_type": "code",
   "execution_count": 59,
   "metadata": {},
   "outputs": [
    {
     "data": {
      "text/plain": [
       "RandomForestClassifier(class_weight={0: 0.39, 1: 0.61}, max_depth=9,\n",
       "                       min_samples_split=500, n_estimators=150)"
      ]
     },
     "execution_count": 59,
     "metadata": {},
     "output_type": "execute_result"
    }
   ],
   "source": [
    "rf.fit(sm_x_train,sm_y_train)"
   ]
  },
  {
   "cell_type": "code",
   "execution_count": 60,
   "metadata": {},
   "outputs": [],
   "source": [
    "pred_rf= rf.predict(sm_x_test)"
   ]
  },
  {
   "cell_type": "code",
   "execution_count": 61,
   "metadata": {},
   "outputs": [
    {
     "data": {
      "text/plain": [
       "array([[61237,  1688],\n",
       "       [33777,  3671]], dtype=int64)"
      ]
     },
     "execution_count": 61,
     "metadata": {},
     "output_type": "execute_result"
    }
   ],
   "source": [
    "tab_rf= confusion_matrix(pred_rf, sm_y_test)\n",
    "tab_rf"
   ]
  },
  {
   "cell_type": "code",
   "execution_count": 62,
   "metadata": {},
   "outputs": [
    {
     "name": "stdout",
     "output_type": "stream",
     "text": [
      "Accuracy score=  0.6466679286262241\n",
      "Precision Score=  0.09802926725058748\n",
      "Recall=  0.6850158611681284\n",
      "F1score=  0.17151400471885442\n",
      "Roc score=  0.6647604407404621\n"
     ]
    }
   ],
   "source": [
    "model_report(sm_y_test,pred_rf)"
   ]
  },
  {
   "cell_type": "code",
   "execution_count": 63,
   "metadata": {},
   "outputs": [],
   "source": [
    "Accuracy_rf = accuracy_score(sm_y_test,pred_rf)\n",
    "Precision_rf= precision_score(sm_y_test,pred_rf)\n",
    "Recall_rf = recall_score(sm_y_test,pred_rf)\n",
    "F1_score_rf=f1_score(sm_y_test,pred_rf)\n",
    "Roc_Score_rf= roc_auc_score(sm_y_test,pred_rf)"
   ]
  },
  {
   "cell_type": "code",
   "execution_count": null,
   "metadata": {},
   "outputs": [],
   "source": []
  },
  {
   "cell_type": "code",
   "execution_count": null,
   "metadata": {},
   "outputs": [],
   "source": []
  },
  {
   "cell_type": "markdown",
   "metadata": {},
   "source": [
    "# XGboost"
   ]
  },
  {
   "cell_type": "code",
   "execution_count": 64,
   "metadata": {},
   "outputs": [],
   "source": [
    "from xgboost import XGBClassifier\n"
   ]
  },
  {
   "cell_type": "code",
   "execution_count": 65,
   "metadata": {},
   "outputs": [],
   "source": [
    "xg=XGBClassifier(n_estimators=100,max_depth=8,learning_rate=0.14,subsample=0.7,scale_pos_weight=1.4)"
   ]
  },
  {
   "cell_type": "code",
   "execution_count": 66,
   "metadata": {},
   "outputs": [
    {
     "name": "stderr",
     "output_type": "stream",
     "text": [
      "C:\\Users\\Admin\\anaconda3\\lib\\site-packages\\xgboost\\sklearn.py:892: UserWarning: The use of label encoder in XGBClassifier is deprecated and will be removed in a future release. To remove this warning, do the following: 1) Pass option use_label_encoder=False when constructing XGBClassifier object; and 2) Encode your labels (y) as integers starting with 0, i.e. 0, 1, 2, ..., [num_class - 1].\n",
      "  warnings.warn(label_encoder_deprecation_msg, UserWarning)\n"
     ]
    },
    {
     "name": "stdout",
     "output_type": "stream",
     "text": [
      "[09:46:35] WARNING: C:/Users/Administrator/workspace/xgboost-win64_release_1.3.0/src/learner.cc:1061: Starting in XGBoost 1.3.0, the default evaluation metric used with the objective 'binary:logistic' was changed from 'error' to 'logloss'. Explicitly set eval_metric if you'd like to restore the old behavior.\n"
     ]
    },
    {
     "data": {
      "text/plain": [
       "XGBClassifier(base_score=0.5, booster='gbtree', colsample_bylevel=1,\n",
       "              colsample_bynode=1, colsample_bytree=1, gamma=0, gpu_id=-1,\n",
       "              importance_type='gain', interaction_constraints='',\n",
       "              learning_rate=0.14, max_delta_step=0, max_depth=8,\n",
       "              min_child_weight=1, missing=nan, monotone_constraints='()',\n",
       "              n_estimators=100, n_jobs=4, num_parallel_tree=1, random_state=0,\n",
       "              reg_alpha=0, reg_lambda=1, scale_pos_weight=1.4, subsample=0.7,\n",
       "              tree_method='exact', validate_parameters=1, verbosity=None)"
      ]
     },
     "execution_count": 66,
     "metadata": {},
     "output_type": "execute_result"
    }
   ],
   "source": [
    "xg.fit(sm_x_train,sm_y_train)"
   ]
  },
  {
   "cell_type": "code",
   "execution_count": 67,
   "metadata": {},
   "outputs": [],
   "source": [
    "pred_xg=xg.predict(sm_x_test)"
   ]
  },
  {
   "cell_type": "code",
   "execution_count": 68,
   "metadata": {},
   "outputs": [
    {
     "data": {
      "text/plain": [
       "array([[67335,  2110],\n",
       "       [27679,  3249]], dtype=int64)"
      ]
     },
     "execution_count": 68,
     "metadata": {},
     "output_type": "execute_result"
    }
   ],
   "source": [
    "tab_xg= confusion_matrix(pred_xg, sm_y_test)\n",
    "tab_xg"
   ]
  },
  {
   "cell_type": "code",
   "execution_count": 69,
   "metadata": {},
   "outputs": [
    {
     "name": "stdout",
     "output_type": "stream",
     "text": [
      "Accuracy score=  0.7032170005878075\n",
      "Precision Score=  0.1050504397309881\n",
      "Recall=  0.6062698264601605\n",
      "F1score=  0.17907239507261552\n",
      "Roc score=  0.6574774311748042\n"
     ]
    }
   ],
   "source": [
    "model_report(sm_y_test,pred_xg)"
   ]
  },
  {
   "cell_type": "code",
   "execution_count": 70,
   "metadata": {},
   "outputs": [],
   "source": [
    "Accuracy_xg = accuracy_score(sm_y_test,pred_xg)\n",
    "Precision_xg= precision_score(sm_y_test,pred_xg)\n",
    "Recall_xg = recall_score(sm_y_test,pred_xg)\n",
    "F1_score_xg=f1_score(sm_y_test,pred_xg)\n",
    "Roc_Score_xg= roc_auc_score(sm_y_test,pred_xg)"
   ]
  },
  {
   "cell_type": "code",
   "execution_count": null,
   "metadata": {},
   "outputs": [],
   "source": []
  },
  {
   "cell_type": "code",
   "execution_count": 71,
   "metadata": {},
   "outputs": [],
   "source": [
    "imp_features=pd.DataFrame(xg.feature_importances_,sm_x_test.columns)\n"
   ]
  },
  {
   "cell_type": "code",
   "execution_count": 72,
   "metadata": {},
   "outputs": [
    {
     "data": {
      "text/html": [
       "<div>\n",
       "<style scoped>\n",
       "    .dataframe tbody tr th:only-of-type {\n",
       "        vertical-align: middle;\n",
       "    }\n",
       "\n",
       "    .dataframe tbody tr th {\n",
       "        vertical-align: top;\n",
       "    }\n",
       "\n",
       "    .dataframe thead th {\n",
       "        text-align: right;\n",
       "    }\n",
       "</style>\n",
       "<table border=\"1\" class=\"dataframe\">\n",
       "  <thead>\n",
       "    <tr style=\"text-align: right;\">\n",
       "      <th></th>\n",
       "      <th>0</th>\n",
       "    </tr>\n",
       "  </thead>\n",
       "  <tbody>\n",
       "    <tr>\n",
       "      <th>skill</th>\n",
       "      <td>0.262101</td>\n",
       "    </tr>\n",
       "    <tr>\n",
       "      <th>purpose</th>\n",
       "      <td>0.164849</td>\n",
       "    </tr>\n",
       "    <tr>\n",
       "      <th>signup_category</th>\n",
       "      <td>0.164677</td>\n",
       "    </tr>\n",
       "    <tr>\n",
       "      <th>business_group</th>\n",
       "      <td>0.051738</td>\n",
       "    </tr>\n",
       "    <tr>\n",
       "      <th>target_group</th>\n",
       "      <td>0.050858</td>\n",
       "    </tr>\n",
       "    <tr>\n",
       "      <th>product_platforms</th>\n",
       "      <td>0.048843</td>\n",
       "    </tr>\n",
       "    <tr>\n",
       "      <th>machines</th>\n",
       "      <td>0.047851</td>\n",
       "    </tr>\n",
       "    <tr>\n",
       "      <th>signup_source</th>\n",
       "      <td>0.047197</td>\n",
       "    </tr>\n",
       "    <tr>\n",
       "      <th>business_segment</th>\n",
       "      <td>0.043969</td>\n",
       "    </tr>\n",
       "    <tr>\n",
       "      <th>download_attempts</th>\n",
       "      <td>0.042965</td>\n",
       "    </tr>\n",
       "    <tr>\n",
       "      <th>job</th>\n",
       "      <td>0.037611</td>\n",
       "    </tr>\n",
       "    <tr>\n",
       "      <th>country_code</th>\n",
       "      <td>0.037340</td>\n",
       "    </tr>\n",
       "  </tbody>\n",
       "</table>\n",
       "</div>"
      ],
      "text/plain": [
       "                          0\n",
       "skill              0.262101\n",
       "purpose            0.164849\n",
       "signup_category    0.164677\n",
       "business_group     0.051738\n",
       "target_group       0.050858\n",
       "product_platforms  0.048843\n",
       "machines           0.047851\n",
       "signup_source      0.047197\n",
       "business_segment   0.043969\n",
       "download_attempts  0.042965\n",
       "job                0.037611\n",
       "country_code       0.037340"
      ]
     },
     "execution_count": 72,
     "metadata": {},
     "output_type": "execute_result"
    }
   ],
   "source": [
    "imp_features.sort_values(by=0,ascending=False)"
   ]
  },
  {
   "cell_type": "code",
   "execution_count": null,
   "metadata": {},
   "outputs": [],
   "source": []
  },
  {
   "cell_type": "code",
   "execution_count": null,
   "metadata": {},
   "outputs": [],
   "source": []
  },
  {
   "cell_type": "markdown",
   "metadata": {},
   "source": [
    "# Naive Bayes"
   ]
  },
  {
   "cell_type": "code",
   "execution_count": 73,
   "metadata": {},
   "outputs": [],
   "source": [
    "from sklearn.naive_bayes import MultinomialNB\n",
    "naive_bayes=MultinomialNB()"
   ]
  },
  {
   "cell_type": "code",
   "execution_count": 74,
   "metadata": {},
   "outputs": [
    {
     "data": {
      "text/plain": [
       "MultinomialNB()"
      ]
     },
     "execution_count": 74,
     "metadata": {},
     "output_type": "execute_result"
    }
   ],
   "source": [
    "naive_bayes.fit(sm_x_train,sm_y_train)"
   ]
  },
  {
   "cell_type": "code",
   "execution_count": 75,
   "metadata": {},
   "outputs": [],
   "source": [
    "pred_nb=naive_bayes.predict(sm_x_test)"
   ]
  },
  {
   "cell_type": "code",
   "execution_count": 76,
   "metadata": {},
   "outputs": [
    {
     "data": {
      "text/plain": [
       "array([[83436,  4363],\n",
       "       [11578,   996]], dtype=int64)"
      ]
     },
     "execution_count": 76,
     "metadata": {},
     "output_type": "execute_result"
    }
   ],
   "source": [
    "tab_nb= confusion_matrix(pred_nb,sm_y_test)\n",
    "tab_nb"
   ]
  },
  {
   "cell_type": "code",
   "execution_count": 77,
   "metadata": {},
   "outputs": [
    {
     "name": "stdout",
     "output_type": "stream",
     "text": [
      "Accuracy score=  0.8411823896864695\n",
      "Precision Score=  0.07921107046285987\n",
      "Recall=  0.18585557006904274\n",
      "F1score=  0.11108013160095913\n",
      "Roc score=  0.5319999217722653\n"
     ]
    }
   ],
   "source": [
    "model_report(sm_y_test,pred_nb)"
   ]
  },
  {
   "cell_type": "code",
   "execution_count": 78,
   "metadata": {},
   "outputs": [],
   "source": [
    "Accuracy_nb = accuracy_score(sm_y_test,pred_nb)\n",
    "Precision_nb= precision_score(sm_y_test,pred_nb)\n",
    "Recall_nb = recall_score(sm_y_test,pred_nb)\n",
    "F1_score_nb=f1_score(sm_y_test,pred_nb)\n",
    "Roc_Score_nb= roc_auc_score(sm_y_test,pred_nb)"
   ]
  },
  {
   "cell_type": "code",
   "execution_count": null,
   "metadata": {},
   "outputs": [],
   "source": []
  },
  {
   "cell_type": "code",
   "execution_count": null,
   "metadata": {},
   "outputs": [],
   "source": []
  },
  {
   "cell_type": "markdown",
   "metadata": {},
   "source": [
    "# Description of All algorithm results"
   ]
  },
  {
   "cell_type": "code",
   "execution_count": 79,
   "metadata": {},
   "outputs": [],
   "source": [
    "Algorithm=list([\"Logistic\",\"DecisionTree\",\"ADABOOST\",\"Randomforest\",\"Naivebayes\",\"XGBOOST\"])\n",
    "accuracy=list([Accuracy_log,Accuracy_dec,Accuracy_adb,Accuracy_rf,Accuracy_nb,Accuracy_xg])\n",
    "ROC=list([Roc_Score_log,Roc_Score_dec,Roc_Score_adb,Roc_Score_rf,Roc_Score_nb,Roc_Score_xg])\n",
    "F1=list([F1_score_log,F1_score_dec,F1_score_adb,F1_score_rf,F1_score_nb,F1_score_xg])\n",
    "Recall = list([Recall_log,Recall_dec,Recall_adb,Recall_rf,Recall_nb,Recall_xg ])\n",
    "Precision=list([Precision_log,Precision_dec,Precision_adb,Precision_rf,Precision_nb,Precision_xg])               "
   ]
  },
  {
   "cell_type": "code",
   "execution_count": 80,
   "metadata": {},
   "outputs": [],
   "source": [
    "# creating a dataframe\n",
    "Description_table= pd.DataFrame({\"Algorithms\":Algorithm,\"Accuracy\":accuracy,\"ROCscore\":ROC,\"F1_Score\":F1,\n",
    "                            \"Recall\":Recall,\"Precision\":Precision})\n"
   ]
  },
  {
   "cell_type": "code",
   "execution_count": 81,
   "metadata": {},
   "outputs": [
    {
     "data": {
      "text/html": [
       "<div>\n",
       "<style scoped>\n",
       "    .dataframe tbody tr th:only-of-type {\n",
       "        vertical-align: middle;\n",
       "    }\n",
       "\n",
       "    .dataframe tbody tr th {\n",
       "        vertical-align: top;\n",
       "    }\n",
       "\n",
       "    .dataframe thead th {\n",
       "        text-align: right;\n",
       "    }\n",
       "</style>\n",
       "<table border=\"1\" class=\"dataframe\">\n",
       "  <thead>\n",
       "    <tr style=\"text-align: right;\">\n",
       "      <th></th>\n",
       "      <th>Algorithms</th>\n",
       "      <th>Accuracy</th>\n",
       "      <th>ROCscore</th>\n",
       "      <th>F1_Score</th>\n",
       "      <th>Recall</th>\n",
       "      <th>Precision</th>\n",
       "    </tr>\n",
       "  </thead>\n",
       "  <tbody>\n",
       "    <tr>\n",
       "      <th>5</th>\n",
       "      <td>XGBOOST</td>\n",
       "      <td>0.703217</td>\n",
       "      <td>0.657477</td>\n",
       "      <td>0.179072</td>\n",
       "      <td>0.606270</td>\n",
       "      <td>0.105050</td>\n",
       "    </tr>\n",
       "    <tr>\n",
       "      <th>3</th>\n",
       "      <td>Randomforest</td>\n",
       "      <td>0.646668</td>\n",
       "      <td>0.664760</td>\n",
       "      <td>0.171514</td>\n",
       "      <td>0.685016</td>\n",
       "      <td>0.098029</td>\n",
       "    </tr>\n",
       "    <tr>\n",
       "      <th>2</th>\n",
       "      <td>ADABOOST</td>\n",
       "      <td>0.659899</td>\n",
       "      <td>0.646834</td>\n",
       "      <td>0.165620</td>\n",
       "      <td>0.632208</td>\n",
       "      <td>0.095292</td>\n",
       "    </tr>\n",
       "    <tr>\n",
       "      <th>1</th>\n",
       "      <td>DecisionTree</td>\n",
       "      <td>0.553545</td>\n",
       "      <td>0.652549</td>\n",
       "      <td>0.154395</td>\n",
       "      <td>0.763389</td>\n",
       "      <td>0.085882</td>\n",
       "    </tr>\n",
       "    <tr>\n",
       "      <th>0</th>\n",
       "      <td>Logistic</td>\n",
       "      <td>0.544399</td>\n",
       "      <td>0.570596</td>\n",
       "      <td>0.123275</td>\n",
       "      <td>0.599925</td>\n",
       "      <td>0.068695</td>\n",
       "    </tr>\n",
       "    <tr>\n",
       "      <th>4</th>\n",
       "      <td>Naivebayes</td>\n",
       "      <td>0.841182</td>\n",
       "      <td>0.532000</td>\n",
       "      <td>0.111080</td>\n",
       "      <td>0.185856</td>\n",
       "      <td>0.079211</td>\n",
       "    </tr>\n",
       "  </tbody>\n",
       "</table>\n",
       "</div>"
      ],
      "text/plain": [
       "     Algorithms  Accuracy  ROCscore  F1_Score    Recall  Precision\n",
       "5       XGBOOST  0.703217  0.657477  0.179072  0.606270   0.105050\n",
       "3  Randomforest  0.646668  0.664760  0.171514  0.685016   0.098029\n",
       "2      ADABOOST  0.659899  0.646834  0.165620  0.632208   0.095292\n",
       "1  DecisionTree  0.553545  0.652549  0.154395  0.763389   0.085882\n",
       "0      Logistic  0.544399  0.570596  0.123275  0.599925   0.068695\n",
       "4    Naivebayes  0.841182  0.532000  0.111080  0.185856   0.079211"
      ]
     },
     "execution_count": 81,
     "metadata": {},
     "output_type": "execute_result"
    }
   ],
   "source": [
    "Description_table.sort_values(by=\"F1_Score\",ascending=False,inplace=True)\n",
    "Description_table"
   ]
  },
  {
   "cell_type": "code",
   "execution_count": null,
   "metadata": {},
   "outputs": [],
   "source": []
  },
  {
   "cell_type": "markdown",
   "metadata": {},
   "source": [
    "# Hence from above table we decide that XGboost is giving us the best results. Now we perform Cross validation to check for stability of model"
   ]
  },
  {
   "cell_type": "code",
   "execution_count": 82,
   "metadata": {},
   "outputs": [],
   "source": [
    "from sklearn.model_selection import cross_val_score"
   ]
  },
  {
   "cell_type": "code",
   "execution_count": 83,
   "metadata": {},
   "outputs": [
    {
     "name": "stderr",
     "output_type": "stream",
     "text": [
      "C:\\Users\\Admin\\anaconda3\\lib\\site-packages\\xgboost\\sklearn.py:892: UserWarning: The use of label encoder in XGBClassifier is deprecated and will be removed in a future release. To remove this warning, do the following: 1) Pass option use_label_encoder=False when constructing XGBClassifier object; and 2) Encode your labels (y) as integers starting with 0, i.e. 0, 1, 2, ..., [num_class - 1].\n",
      "  warnings.warn(label_encoder_deprecation_msg, UserWarning)\n"
     ]
    },
    {
     "name": "stdout",
     "output_type": "stream",
     "text": [
      "[09:47:24] WARNING: C:/Users/Administrator/workspace/xgboost-win64_release_1.3.0/src/learner.cc:1061: Starting in XGBoost 1.3.0, the default evaluation metric used with the objective 'binary:logistic' was changed from 'error' to 'logloss'. Explicitly set eval_metric if you'd like to restore the old behavior.\n",
      "[09:47:59] WARNING: C:/Users/Administrator/workspace/xgboost-win64_release_1.3.0/src/learner.cc:1061: Starting in XGBoost 1.3.0, the default evaluation metric used with the objective 'binary:logistic' was changed from 'error' to 'logloss'. Explicitly set eval_metric if you'd like to restore the old behavior.\n",
      "[09:48:31] WARNING: C:/Users/Administrator/workspace/xgboost-win64_release_1.3.0/src/learner.cc:1061: Starting in XGBoost 1.3.0, the default evaluation metric used with the objective 'binary:logistic' was changed from 'error' to 'logloss'. Explicitly set eval_metric if you'd like to restore the old behavior.\n",
      "[09:49:05] WARNING: C:/Users/Administrator/workspace/xgboost-win64_release_1.3.0/src/learner.cc:1061: Starting in XGBoost 1.3.0, the default evaluation metric used with the objective 'binary:logistic' was changed from 'error' to 'logloss'. Explicitly set eval_metric if you'd like to restore the old behavior.\n",
      "[09:49:40] WARNING: C:/Users/Administrator/workspace/xgboost-win64_release_1.3.0/src/learner.cc:1061: Starting in XGBoost 1.3.0, the default evaluation metric used with the objective 'binary:logistic' was changed from 'error' to 'logloss'. Explicitly set eval_metric if you'd like to restore the old behavior.\n",
      "[09:50:15] WARNING: C:/Users/Administrator/workspace/xgboost-win64_release_1.3.0/src/learner.cc:1061: Starting in XGBoost 1.3.0, the default evaluation metric used with the objective 'binary:logistic' was changed from 'error' to 'logloss'. Explicitly set eval_metric if you'd like to restore the old behavior.\n",
      "[09:50:52] WARNING: C:/Users/Administrator/workspace/xgboost-win64_release_1.3.0/src/learner.cc:1061: Starting in XGBoost 1.3.0, the default evaluation metric used with the objective 'binary:logistic' was changed from 'error' to 'logloss'. Explicitly set eval_metric if you'd like to restore the old behavior.\n"
     ]
    }
   ],
   "source": [
    "cross_val=cross_val_score(xg,sm_x_train,sm_y_train,cv=7,scoring=\"accuracy\")"
   ]
  },
  {
   "cell_type": "code",
   "execution_count": 84,
   "metadata": {},
   "outputs": [
    {
     "name": "stdout",
     "output_type": "stream",
     "text": [
      "Mean accuracy of model is  0.7130781680684443\n",
      "Max accuracy of model is  0.7152341545984577\n",
      "Min accuracy of model is  0.7089093268633978\n"
     ]
    }
   ],
   "source": [
    "print(\"Mean accuracy of model is \", cross_val.mean())\n",
    "print(\"Max accuracy of model is \" , cross_val.max())\n",
    "print(\"Min accuracy of model is \" , cross_val.min())"
   ]
  },
  {
   "cell_type": "code",
   "execution_count": null,
   "metadata": {},
   "outputs": [],
   "source": []
  },
  {
   "cell_type": "code",
   "execution_count": null,
   "metadata": {},
   "outputs": [],
   "source": []
  },
  {
   "cell_type": "markdown",
   "metadata": {},
   "source": [
    "# The second objective was to identify customers which could be pitched for other software services"
   ]
  },
  {
   "cell_type": "code",
   "execution_count": 85,
   "metadata": {},
   "outputs": [],
   "source": [
    "sm_imp=sm.iloc[:,:12]"
   ]
  },
  {
   "cell_type": "code",
   "execution_count": 86,
   "metadata": {},
   "outputs": [
    {
     "data": {
      "text/plain": [
       "array([[0.5106554 , 0.48934463],\n",
       "       [0.7845852 , 0.21541482],\n",
       "       [0.60779274, 0.3922073 ],\n",
       "       ...,\n",
       "       [0.7489687 , 0.25103128],\n",
       "       [0.723371  , 0.27662897],\n",
       "       [0.9216596 , 0.07834039]], dtype=float32)"
      ]
     },
     "execution_count": 86,
     "metadata": {},
     "output_type": "execute_result"
    }
   ],
   "source": [
    "# The good customers are those who have high probability of subscribing, so we need to check for people with high probability\n",
    "# to find people with higher probabilities we need to run model on whole data\n",
    "\n",
    "pred_prob_whole= xg.predict_proba(sm_imp)\n",
    "pred_prob_whole"
   ]
  },
  {
   "cell_type": "code",
   "execution_count": 87,
   "metadata": {},
   "outputs": [
    {
     "data": {
      "text/html": [
       "<div>\n",
       "<style scoped>\n",
       "    .dataframe tbody tr th:only-of-type {\n",
       "        vertical-align: middle;\n",
       "    }\n",
       "\n",
       "    .dataframe tbody tr th {\n",
       "        vertical-align: top;\n",
       "    }\n",
       "\n",
       "    .dataframe thead th {\n",
       "        text-align: right;\n",
       "    }\n",
       "</style>\n",
       "<table border=\"1\" class=\"dataframe\">\n",
       "  <thead>\n",
       "    <tr style=\"text-align: right;\">\n",
       "      <th></th>\n",
       "      <th>0</th>\n",
       "      <th>1</th>\n",
       "    </tr>\n",
       "  </thead>\n",
       "  <tbody>\n",
       "    <tr>\n",
       "      <th>0</th>\n",
       "      <td>0.510655</td>\n",
       "      <td>0.489345</td>\n",
       "    </tr>\n",
       "    <tr>\n",
       "      <th>1</th>\n",
       "      <td>0.784585</td>\n",
       "      <td>0.215415</td>\n",
       "    </tr>\n",
       "    <tr>\n",
       "      <th>2</th>\n",
       "      <td>0.607793</td>\n",
       "      <td>0.392207</td>\n",
       "    </tr>\n",
       "    <tr>\n",
       "      <th>3</th>\n",
       "      <td>0.639694</td>\n",
       "      <td>0.360306</td>\n",
       "    </tr>\n",
       "    <tr>\n",
       "      <th>4</th>\n",
       "      <td>0.668511</td>\n",
       "      <td>0.331489</td>\n",
       "    </tr>\n",
       "    <tr>\n",
       "      <th>...</th>\n",
       "      <td>...</td>\n",
       "      <td>...</td>\n",
       "    </tr>\n",
       "    <tr>\n",
       "      <th>334569</th>\n",
       "      <td>0.928681</td>\n",
       "      <td>0.071319</td>\n",
       "    </tr>\n",
       "    <tr>\n",
       "      <th>334570</th>\n",
       "      <td>0.523108</td>\n",
       "      <td>0.476892</td>\n",
       "    </tr>\n",
       "    <tr>\n",
       "      <th>334571</th>\n",
       "      <td>0.748969</td>\n",
       "      <td>0.251031</td>\n",
       "    </tr>\n",
       "    <tr>\n",
       "      <th>334572</th>\n",
       "      <td>0.723371</td>\n",
       "      <td>0.276629</td>\n",
       "    </tr>\n",
       "    <tr>\n",
       "      <th>334573</th>\n",
       "      <td>0.921660</td>\n",
       "      <td>0.078340</td>\n",
       "    </tr>\n",
       "  </tbody>\n",
       "</table>\n",
       "<p>334574 rows × 2 columns</p>\n",
       "</div>"
      ],
      "text/plain": [
       "               0         1\n",
       "0       0.510655  0.489345\n",
       "1       0.784585  0.215415\n",
       "2       0.607793  0.392207\n",
       "3       0.639694  0.360306\n",
       "4       0.668511  0.331489\n",
       "...          ...       ...\n",
       "334569  0.928681  0.071319\n",
       "334570  0.523108  0.476892\n",
       "334571  0.748969  0.251031\n",
       "334572  0.723371  0.276629\n",
       "334573  0.921660  0.078340\n",
       "\n",
       "[334574 rows x 2 columns]"
      ]
     },
     "execution_count": 87,
     "metadata": {},
     "output_type": "execute_result"
    }
   ],
   "source": [
    "prob_whole_df=pd.DataFrame(pred_prob_whole)\n",
    "prob_whole_df"
   ]
  },
  {
   "cell_type": "code",
   "execution_count": 88,
   "metadata": {},
   "outputs": [],
   "source": [
    "#Then we create again a new dataframe with all customer IDS\n",
    "\n",
    "prob_ID_customer= pd.DataFrame({\"Customer_ID\":ID.ID,\n",
    "                                \"Probabilities\":prob_whole_df.iloc[:,1]})"
   ]
  },
  {
   "cell_type": "code",
   "execution_count": null,
   "metadata": {},
   "outputs": [],
   "source": []
  },
  {
   "cell_type": "markdown",
   "metadata": {},
   "source": [
    "# using this table we can contact the customers and pitch them to opt for other softwares "
   ]
  },
  {
   "cell_type": "code",
   "execution_count": 89,
   "metadata": {},
   "outputs": [
    {
     "data": {
      "text/html": [
       "<div>\n",
       "<style scoped>\n",
       "    .dataframe tbody tr th:only-of-type {\n",
       "        vertical-align: middle;\n",
       "    }\n",
       "\n",
       "    .dataframe tbody tr th {\n",
       "        vertical-align: top;\n",
       "    }\n",
       "\n",
       "    .dataframe thead th {\n",
       "        text-align: right;\n",
       "    }\n",
       "</style>\n",
       "<table border=\"1\" class=\"dataframe\">\n",
       "  <thead>\n",
       "    <tr style=\"text-align: right;\">\n",
       "      <th></th>\n",
       "      <th>Customer_ID</th>\n",
       "      <th>Probabilities</th>\n",
       "    </tr>\n",
       "  </thead>\n",
       "  <tbody>\n",
       "    <tr>\n",
       "      <th>327519</th>\n",
       "      <td>327520</td>\n",
       "      <td>0.981785</td>\n",
       "    </tr>\n",
       "    <tr>\n",
       "      <th>277783</th>\n",
       "      <td>277784</td>\n",
       "      <td>0.981785</td>\n",
       "    </tr>\n",
       "    <tr>\n",
       "      <th>244143</th>\n",
       "      <td>244144</td>\n",
       "      <td>0.963519</td>\n",
       "    </tr>\n",
       "    <tr>\n",
       "      <th>166312</th>\n",
       "      <td>166313</td>\n",
       "      <td>0.949777</td>\n",
       "    </tr>\n",
       "    <tr>\n",
       "      <th>111021</th>\n",
       "      <td>111022</td>\n",
       "      <td>0.949777</td>\n",
       "    </tr>\n",
       "    <tr>\n",
       "      <th>...</th>\n",
       "      <td>...</td>\n",
       "      <td>...</td>\n",
       "    </tr>\n",
       "    <tr>\n",
       "      <th>274168</th>\n",
       "      <td>274169</td>\n",
       "      <td>0.000943</td>\n",
       "    </tr>\n",
       "    <tr>\n",
       "      <th>156086</th>\n",
       "      <td>156087</td>\n",
       "      <td>0.000920</td>\n",
       "    </tr>\n",
       "    <tr>\n",
       "      <th>142676</th>\n",
       "      <td>142677</td>\n",
       "      <td>0.000744</td>\n",
       "    </tr>\n",
       "    <tr>\n",
       "      <th>186745</th>\n",
       "      <td>186746</td>\n",
       "      <td>0.000726</td>\n",
       "    </tr>\n",
       "    <tr>\n",
       "      <th>155938</th>\n",
       "      <td>155939</td>\n",
       "      <td>0.000682</td>\n",
       "    </tr>\n",
       "  </tbody>\n",
       "</table>\n",
       "<p>334574 rows × 2 columns</p>\n",
       "</div>"
      ],
      "text/plain": [
       "        Customer_ID  Probabilities\n",
       "327519       327520       0.981785\n",
       "277783       277784       0.981785\n",
       "244143       244144       0.963519\n",
       "166312       166313       0.949777\n",
       "111021       111022       0.949777\n",
       "...             ...            ...\n",
       "274168       274169       0.000943\n",
       "156086       156087       0.000920\n",
       "142676       142677       0.000744\n",
       "186745       186746       0.000726\n",
       "155938       155939       0.000682\n",
       "\n",
       "[334574 rows x 2 columns]"
      ]
     },
     "execution_count": 89,
     "metadata": {},
     "output_type": "execute_result"
    }
   ],
   "source": [
    "\n",
    "prob_ID_customer=prob_ID_customer.sort_values(by=\"Probabilities\",ascending=False)\n",
    "prob_ID_customer"
   ]
  },
  {
   "cell_type": "code",
   "execution_count": null,
   "metadata": {},
   "outputs": [],
   "source": []
  },
  {
   "cell_type": "code",
   "execution_count": null,
   "metadata": {},
   "outputs": [],
   "source": []
  },
  {
   "cell_type": "code",
   "execution_count": null,
   "metadata": {},
   "outputs": [],
   "source": []
  },
  {
   "cell_type": "code",
   "execution_count": null,
   "metadata": {},
   "outputs": [],
   "source": []
  },
  {
   "cell_type": "code",
   "execution_count": null,
   "metadata": {},
   "outputs": [],
   "source": []
  },
  {
   "cell_type": "code",
   "execution_count": null,
   "metadata": {},
   "outputs": [],
   "source": []
  },
  {
   "cell_type": "code",
   "execution_count": null,
   "metadata": {},
   "outputs": [],
   "source": []
  },
  {
   "cell_type": "code",
   "execution_count": null,
   "metadata": {},
   "outputs": [],
   "source": []
  }
 ],
 "metadata": {
  "kernelspec": {
   "display_name": "Python 3",
   "language": "python",
   "name": "python3"
  },
  "language_info": {
   "codemirror_mode": {
    "name": "ipython",
    "version": 3
   },
   "file_extension": ".py",
   "mimetype": "text/x-python",
   "name": "python",
   "nbconvert_exporter": "python",
   "pygments_lexer": "ipython3",
   "version": "3.7.6"
  }
 },
 "nbformat": 4,
 "nbformat_minor": 4
}
